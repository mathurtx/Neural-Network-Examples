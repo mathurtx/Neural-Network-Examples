{
 "cells": [
  {
   "cell_type": "code",
   "execution_count": 2,
   "metadata": {
    "collapsed": true
   },
   "outputs": [],
   "source": [
    "import numpy as np\n",
    "import tensorflow as tf\n",
    "import matplotlib.pyplot as plt"
   ]
  },
  {
   "cell_type": "code",
   "execution_count": 11,
   "metadata": {
    "collapsed": true
   },
   "outputs": [],
   "source": [
    "alpha = 0.01\n",
    "training_epochs = 1000\n",
    "display_step = 50"
   ]
  },
  {
   "cell_type": "code",
   "execution_count": 4,
   "metadata": {
    "collapsed": false
   },
   "outputs": [],
   "source": [
    "train_X = np.asarray([3.3,4.4,5.5,6.71,6.93,4.168,9.779,6.182,7.59,2.167,\n",
    "                         7.042,10.791,5.313,7.997,5.654,9.27,3.1])\n",
    "train_Y = np.asarray([1.7,2.76,2.09,3.19,1.694,1.573,3.366,2.596,2.53,1.221,\n",
    "                         2.827,3.465,1.65,2.904,2.42,2.94,1.3])\n",
    "n_samples = train_X.shape[0]"
   ]
  },
  {
   "cell_type": "code",
   "execution_count": 5,
   "metadata": {
    "collapsed": true
   },
   "outputs": [],
   "source": [
    "X = tf.placeholder(\"float\")\n",
    "Y = tf.placeholder(\"float\")\n",
    "theta = tf.Variable(np.random.randn(), name='theta')\n",
    "bias = tf.Variable(np.random.randn(), name='bias')"
   ]
  },
  {
   "cell_type": "code",
   "execution_count": 6,
   "metadata": {
    "collapsed": true
   },
   "outputs": [],
   "source": [
    "prediction = tf.add(tf.mul(theta,X),bias)"
   ]
  },
  {
   "cell_type": "code",
   "execution_count": 7,
   "metadata": {
    "collapsed": true
   },
   "outputs": [],
   "source": [
    "cost = tf.reduce_sum(tf.pow(prediction-Y,2))/(2*n_samples)\n",
    "optimizer = tf.train.GradientDescentOptimizer(learning_rate=alpha).minimize(cost)"
   ]
  },
  {
   "cell_type": "code",
   "execution_count": 8,
   "metadata": {
    "collapsed": true
   },
   "outputs": [],
   "source": [
    "model = tf.initialize_all_variables()"
   ]
  },
  {
   "cell_type": "code",
   "execution_count": null,
   "metadata": {
    "collapsed": false
   },
   "outputs": [
    {
     "name": "stdout",
     "output_type": "stream",
     "text": [
      "Epoch: 0050 cost= 0.086346425 W= 0.303843 b= 0.411197\n",
      "Epoch: 0100 cost= 0.085262135 W= 0.300617 b= 0.434408\n",
      "Epoch: 0150 cost= 0.084303290 W= 0.297582 b= 0.456239\n",
      "Epoch: 0200 cost= 0.083455324 W= 0.294728 b= 0.476771\n",
      "Epoch: 0250 cost= 0.082705453 W= 0.292044 b= 0.496083\n",
      "Epoch: 0300 cost= 0.082042366 W= 0.289519 b= 0.514246\n",
      "Epoch: 0350 cost= 0.081456028 W= 0.287145 b= 0.531327\n",
      "Epoch: 0400 cost= 0.080937557 W= 0.284911 b= 0.547394\n",
      "Epoch: 0450 cost= 0.080479071 W= 0.282811 b= 0.562505\n",
      "Epoch: 0500 cost= 0.080073714 W= 0.280835 b= 0.576718\n",
      "Epoch: 0550 cost= 0.079715237 W= 0.278977 b= 0.590086\n",
      "Epoch: 0600 cost= 0.079398312 W= 0.277229 b= 0.60266\n",
      "Epoch: 0650 cost= 0.079118125 W= 0.275585 b= 0.614484\n",
      "Epoch: 0700 cost= 0.078870453 W= 0.27404 b= 0.625604\n",
      "Epoch: 0750 cost= 0.078651488 W= 0.272586 b= 0.636062\n",
      "Epoch: 0800 cost= 0.078457944 W= 0.271218 b= 0.645898\n",
      "Epoch: 0850 cost= 0.078286834 W= 0.269933 b= 0.65515\n",
      "Epoch: 0900 cost= 0.078135565 W= 0.268723 b= 0.663851\n",
      "Epoch: 0950 cost= 0.078001849 W= 0.267585 b= 0.672035\n"
     ]
    }
   ],
   "source": [
    "with tf.Session() as session:\n",
    "    session.run(model)\n",
    "    for epoch in range(training_epocs):\n",
    "        for (x,y) in zip(train_X, train_Y):\n",
    "            session.run(optimizer, feed_dict = {X: x, Y: y})\n",
    "        if (epoch+1) % display_step == 0:\n",
    "            c = session.run(cost, feed_dict = {X: train_X, Y: train_Y})\n",
    "            print \"Epoch:\", '%04d' % (epoch+1), \"cost=\", \"{:.9f}\".format(c), \\\n",
    "                \"W=\", session.run(theta), \"b=\", session.run(bias)\n",
    "\n",
    "    print \"Optimization Finished!\"\n",
    "    training_cost = session.run(cost, feed_dict={X: train_X, Y: train_Y})\n",
    "    print \"Training cost=\", training_cost, \"W=\", session.run(theta), \"b=\", session.run(bias), '\\n'\n",
    "\n",
    "    #Graphic display\n",
    "    plt.plot(train_X, train_Y, 'ro', label='Original data')\n",
    "    plt.plot(train_X, session.run(theta) * train_X + session.run(bias), label='Fitted line')\n",
    "    plt.legend()\n",
    "    plt.show()"
   ]
  }
 ],
 "metadata": {
  "kernelspec": {
   "display_name": "Python 2",
   "language": "python",
   "name": "python2"
  },
  "language_info": {
   "codemirror_mode": {
    "name": "ipython",
    "version": 2
   },
   "file_extension": ".py",
   "mimetype": "text/x-python",
   "name": "python",
   "nbconvert_exporter": "python",
   "pygments_lexer": "ipython2",
   "version": "2.7.10"
  }
 },
 "nbformat": 4,
 "nbformat_minor": 1
}
