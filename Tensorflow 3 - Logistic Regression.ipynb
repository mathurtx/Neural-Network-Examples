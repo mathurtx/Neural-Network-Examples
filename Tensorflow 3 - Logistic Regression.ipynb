{
 "cells": [
  {
   "cell_type": "code",
   "execution_count": 1,
   "metadata": {
    "collapsed": true
   },
   "outputs": [],
   "source": [
    "import tensorflow as tf\n",
    "from  tensorflow.examples.tutorials.mnist import input_data"
   ]
  },
  {
   "cell_type": "code",
   "execution_count": 2,
   "metadata": {
    "collapsed": false
   },
   "outputs": [
    {
     "name": "stdout",
     "output_type": "stream",
     "text": [
      "Extracting /tmp/data/train-images-idx3-ubyte.gz\n",
      "Extracting /tmp/data/train-labels-idx1-ubyte.gz\n",
      "Extracting /tmp/data/t10k-images-idx3-ubyte.gz\n",
      "Extracting /tmp/data/t10k-labels-idx1-ubyte.gz\n"
     ]
    }
   ],
   "source": [
    "mnist = input_data.read_data_sets('/tmp/data/', one_hot=True)\n",
    "learning_rate = 0.01\n",
    "training_epochs = 25\n",
    "batch_size = 100\n",
    "display_step = 1"
   ]
  },
  {
   "cell_type": "code",
   "execution_count": 4,
   "metadata": {
    "collapsed": false
   },
   "outputs": [],
   "source": [
    "X = tf.placeholder(tf.float32, [None,784])\n",
    "y = tf.placeholder(tf.float32, [None,10])\n",
    "\n",
    "theta = tf.Variable(tf.zeros([784,10]))\n",
    "bias = tf.Variable(tf.zeros([10]))\n",
    "\n",
    "pred = tf.nn.softmax(tf.matmul(X, theta) + bias)\n",
    "\n",
    "#Cross entropy\n",
    "cost = tf.reduce_mean(-tf.reduce_sum(y*tf.log(pred), reduction_indices=1))\n",
    "optimizer = tf.train.GradientDescentOptimizer(learning_rate=learning_rate).minimize(cost)"
   ]
  },
  {
   "cell_type": "code",
   "execution_count": 5,
   "metadata": {
    "collapsed": true
   },
   "outputs": [],
   "source": [
    "init = tf.initialize_all_variables()"
   ]
  },
  {
   "cell_type": "code",
   "execution_count": 9,
   "metadata": {
    "collapsed": false
   },
   "outputs": [
    {
     "name": "stdout",
     "output_type": "stream",
     "text": [
      " Epoch: 0001 cost= 1.183875163\n",
      "Epoch: 0002 cost= 0.665689302\n",
      "Epoch: 0003 cost= 0.552794885\n",
      "Epoch: 0004 cost= 0.498521547\n",
      "Epoch: 0005 cost= 0.465645054\n",
      "Epoch: 0006 cost= 0.442410727\n",
      "Epoch: 0007 cost= 0.425714998\n",
      "Epoch: 0008 cost= 0.411928904\n",
      "Epoch: 0009 cost= 0.401556639\n",
      "Epoch: 0010 cost= 0.392554738\n",
      "Epoch: 0011 cost= 0.384783494\n",
      "Epoch: 0012 cost= 0.378036210\n",
      "Epoch: 0013 cost= 0.372413784\n",
      "Epoch: 0014 cost= 0.367699117\n",
      "Epoch: 0015 cost= 0.362492464\n",
      "Epoch: 0016 cost= 0.358402623\n",
      "Epoch: 0017 cost= 0.355071355\n",
      "Epoch: 0018 cost= 0.351365620\n",
      "Epoch: 0019 cost= 0.348355473\n",
      "Epoch: 0020 cost= 0.345594307\n",
      "Epoch: 0021 cost= 0.342491014\n",
      "Epoch: 0022 cost= 0.340490836\n",
      "Epoch: 0023 cost= 0.338013100\n",
      "Epoch: 0024 cost= 0.335434544\n",
      "Epoch: 0025 cost= 0.333601524\n",
      "Optimization Finished!\n",
      "Accuracy: 0.888\n"
     ]
    }
   ],
   "source": [
    "with tf.Session() as sess:\n",
    "    sess.run(init)\n",
    "    \n",
    "    for epoch in range(training_epochs):\n",
    "        avg_cost = 0.\n",
    "        total_batch = int(mnist.train.num_examples/batch_size)\n",
    "        for i in range(total_batch):\n",
    "            batch_xs, batch_ys = mnist.train.next_batch(batch_size)\n",
    "            _, c = sess.run([optimizer, cost], feed_dict={X: batch_xs,\n",
    "                                                          y: batch_ys})\n",
    "            avg_cost += c / total_batch\n",
    "        if (epoch+1) % display_step == 0:\n",
    "            print \"Epoch:\", '%04d' % (epoch+1), \"cost=\", \"{:.9f}\".format(avg_cost)\n",
    "    print \"Optimization Finished!\"\n",
    "    # Test model\n",
    "    correct_prediction = tf.equal(tf.argmax(pred, 1), tf.argmax(y, 1))\n",
    "    # Calculate accuracy for 3000 examples\n",
    "    accuracy = tf.reduce_mean(tf.cast(correct_prediction, tf.float32))\n",
    "    print \"Accuracy:\", accuracy.eval({X: mnist.test.images[:3000], y: mnist.test.labels[:3000]})          "
   ]
  },
  {
   "cell_type": "code",
   "execution_count": null,
   "metadata": {
    "collapsed": true
   },
   "outputs": [],
   "source": []
  }
 ],
 "metadata": {
  "kernelspec": {
   "display_name": "Python 2",
   "language": "python",
   "name": "python2"
  },
  "language_info": {
   "codemirror_mode": {
    "name": "ipython",
    "version": 2
   },
   "file_extension": ".py",
   "mimetype": "text/x-python",
   "name": "python",
   "nbconvert_exporter": "python",
   "pygments_lexer": "ipython2",
   "version": "2.7.10"
  }
 },
 "nbformat": 4,
 "nbformat_minor": 1
}
